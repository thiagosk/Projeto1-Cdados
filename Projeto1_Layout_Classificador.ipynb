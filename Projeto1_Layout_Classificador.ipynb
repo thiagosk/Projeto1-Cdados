{
 "cells": [
  {
   "cell_type": "markdown",
   "metadata": {},
   "source": [
    "# Projeto 1 - Ciência dos Dados"
   ]
  },
  {
   "cell_type": "markdown",
   "metadata": {},
   "source": [
    "Nome: Pedro Herique Britto Aragão Andrade\n",
    "\n",
    "Nome: Thiago Shiguero Kawahara"
   ]
  },
  {
   "cell_type": "markdown",
   "metadata": {},
   "source": [
    "Atenção: Serão permitidos grupos de três pessoas, mas com uma rubrica mais exigente. Grupos deste tamanho precisarão fazer um questionário de avaliação de trabalho em equipe"
   ]
  },
  {
   "cell_type": "markdown",
   "metadata": {},
   "source": [
    "___\n",
    "Carregando algumas bibliotecas:"
   ]
  },
  {
   "cell_type": "code",
   "execution_count": 8,
   "metadata": {},
   "outputs": [],
   "source": [
    "%matplotlib inline\n",
    "import pandas as pd\n",
    "import matplotlib.pyplot as plt\n",
    "import numpy as np\n",
    "import os\n",
    "import random"
   ]
  },
  {
   "cell_type": "code",
   "execution_count": 9,
   "metadata": {
    "scrolled": false
   },
   "outputs": [
    {
     "name": "stdout",
     "output_type": "stream",
     "text": [
      "Esperamos trabalhar no diretório\n",
      "C:\\Users\\thiag\\Projeto1-Ciedados\n"
     ]
    }
   ],
   "source": [
    "print('Esperamos trabalhar no diretório')\n",
    "print(os.getcwd())"
   ]
  },
  {
   "cell_type": "markdown",
   "metadata": {},
   "source": [
    "Carregando a base de dados com os tweets classificados como relevantes e não relevantes:"
   ]
  },
  {
   "cell_type": "code",
   "execution_count": 10,
   "metadata": {},
   "outputs": [],
   "source": [
    "filename = 'Pringles.xlsx'"
   ]
  },
  {
   "cell_type": "code",
   "execution_count": 11,
   "metadata": {},
   "outputs": [
    {
     "data": {
      "text/html": [
       "<div>\n",
       "<style scoped>\n",
       "    .dataframe tbody tr th:only-of-type {\n",
       "        vertical-align: middle;\n",
       "    }\n",
       "\n",
       "    .dataframe tbody tr th {\n",
       "        vertical-align: top;\n",
       "    }\n",
       "\n",
       "    .dataframe thead th {\n",
       "        text-align: right;\n",
       "    }\n",
       "</style>\n",
       "<table border=\"1\" class=\"dataframe\">\n",
       "  <thead>\n",
       "    <tr style=\"text-align: right;\">\n",
       "      <th></th>\n",
       "      <th>Treinamento</th>\n",
       "      <th>Classificação</th>\n",
       "    </tr>\n",
       "  </thead>\n",
       "  <tbody>\n",
       "    <tr>\n",
       "      <th>0</th>\n",
       "      <td>eu 🤝 comer pringles com danette\\n\\n   combinaç...</td>\n",
       "      <td>Relevante</td>\n",
       "    </tr>\n",
       "    <tr>\n",
       "      <th>1</th>\n",
       "      <td>@englantinez pipoca, bolinha de amendoim ou ba...</td>\n",
       "      <td>Relevante</td>\n",
       "    </tr>\n",
       "    <tr>\n",
       "      <th>2</th>\n",
       "      <td>chorando e comendo pringles</td>\n",
       "      <td>Irrelevante</td>\n",
       "    </tr>\n",
       "    <tr>\n",
       "      <th>3</th>\n",
       "      <td>leticia podendo me viciar em tanta coisa me vi...</td>\n",
       "      <td>Relevante</td>\n",
       "    </tr>\n",
       "    <tr>\n",
       "      <th>4</th>\n",
       "      <td>vontade de uma pringles ughhhhh</td>\n",
       "      <td>Irrelevante</td>\n",
       "    </tr>\n",
       "  </tbody>\n",
       "</table>\n",
       "</div>"
      ],
      "text/plain": [
       "                                         Treinamento Classificação\n",
       "0  eu 🤝 comer pringles com danette\\n\\n   combinaç...     Relevante\n",
       "1  @englantinez pipoca, bolinha de amendoim ou ba...     Relevante\n",
       "2                        chorando e comendo pringles   Irrelevante\n",
       "3  leticia podendo me viciar em tanta coisa me vi...     Relevante\n",
       "4                    vontade de uma pringles ughhhhh   Irrelevante"
      ]
     },
     "execution_count": 11,
     "metadata": {},
     "output_type": "execute_result"
    }
   ],
   "source": [
    "train = pd.read_excel(filename, sheet_name = 'Treinamento')\n",
    "\n",
    "train.Classificação = train.Classificação.astype('category')\n",
    "train.Classificação.cat.categories = (['Irrelevante', 'Relevante'])\n",
    "\n",
    "train.head(5)"
   ]
  },
  {
   "cell_type": "code",
   "execution_count": 12,
   "metadata": {},
   "outputs": [
    {
     "data": {
      "text/html": [
       "<div>\n",
       "<style scoped>\n",
       "    .dataframe tbody tr th:only-of-type {\n",
       "        vertical-align: middle;\n",
       "    }\n",
       "\n",
       "    .dataframe tbody tr th {\n",
       "        vertical-align: top;\n",
       "    }\n",
       "\n",
       "    .dataframe thead th {\n",
       "        text-align: right;\n",
       "    }\n",
       "</style>\n",
       "<table border=\"1\" class=\"dataframe\">\n",
       "  <thead>\n",
       "    <tr style=\"text-align: right;\">\n",
       "      <th></th>\n",
       "      <th>Teste</th>\n",
       "      <th>Classificação</th>\n",
       "    </tr>\n",
       "  </thead>\n",
       "  <tbody>\n",
       "    <tr>\n",
       "      <th>0</th>\n",
       "      <td>o cara tem um pote de pringles entre as perna ...</td>\n",
       "      <td>Irrelevante</td>\n",
       "    </tr>\n",
       "    <tr>\n",
       "      <th>1</th>\n",
       "      <td>@ellixquintx a pringles de cebola maior que ca...</td>\n",
       "      <td>Irrelevante</td>\n",
       "    </tr>\n",
       "    <tr>\n",
       "      <th>2</th>\n",
       "      <td>se eu fosse líder eu n ia falar com a pessoa q...</td>\n",
       "      <td>Relevante</td>\n",
       "    </tr>\n",
       "    <tr>\n",
       "      <th>3</th>\n",
       "      <td>vou fazer meu vício favorito dos últimos tempo...</td>\n",
       "      <td>Relevante</td>\n",
       "    </tr>\n",
       "    <tr>\n",
       "      <th>4</th>\n",
       "      <td>ai to muito puta namoral ja era a minha coca c...</td>\n",
       "      <td>Relevante</td>\n",
       "    </tr>\n",
       "  </tbody>\n",
       "</table>\n",
       "</div>"
      ],
      "text/plain": [
       "                                               Teste Classificação\n",
       "0  o cara tem um pote de pringles entre as perna ...   Irrelevante\n",
       "1  @ellixquintx a pringles de cebola maior que ca...   Irrelevante\n",
       "2  se eu fosse líder eu n ia falar com a pessoa q...     Relevante\n",
       "3  vou fazer meu vício favorito dos últimos tempo...     Relevante\n",
       "4  ai to muito puta namoral ja era a minha coca c...     Relevante"
      ]
     },
     "execution_count": 12,
     "metadata": {},
     "output_type": "execute_result"
    }
   ],
   "source": [
    "test = pd.read_excel(filename, sheet_name = 'Teste')\n",
    "\n",
    "test.Classificação = test.Classificação.astype('category')\n",
    "test.Classificação.cat.categories = (['Irrelevante', 'Relevante'])\n",
    "\n",
    "test.head(5)"
   ]
  },
  {
   "cell_type": "markdown",
   "metadata": {},
   "source": [
    "___\n",
    "## Classificador automático de sentimento\n"
   ]
  },
  {
   "cell_type": "markdown",
   "metadata": {},
   "source": [
    "Pringles é um aperitivo estilo batata chips e vendido em um tubo cilindrico.\n",
    "\n",
    "Relevante: Avaliações negativas do produto ou que tivessem informações interessantes para uma possível parceria ou novas ideias de marketing.\n",
    "\n",
    "Irrelevante: Todos que não fossem relevantes."
   ]
  },
  {
   "cell_type": "markdown",
   "metadata": {},
   "source": [
    "___\n",
    "### Montando um Classificador Naive-Bayes\n",
    "\n",
    "Considerando apenas as mensagens da planilha Treinamento, ensine  seu classificador."
   ]
  },
  {
   "cell_type": "markdown",
   "metadata": {},
   "source": [
    "Utiliza-se o Naive-Bayes para calcular a probabilidade do Tweet ser Relevante e a probabilidade do Tweet ser Irrelevante, depois essas probabilidades são comparadas (i) e a partir do resultado é definido se o Tweet é relevante ou irrelevante.\n",
    "\n",
    "i.$\\quad  P(R|T) > P(I|T)$ ou $P(R|T) < P(I|T)$ $\\quad$ **ETAPA 5**\n",
    "\n",
    "Portanto, temos que descobrir: \n",
    "\n",
    "* $P(R|T)$ \n",
    "\n",
    "* $P(I|T)$\n",
    "\n",
    "As etapas a seguir valem tanto para os **Relevantes** quanto para os **Irrelevantes**.\n",
    "\n",
    "Sabemos que:\n",
    "\n",
    "$\\quad P(R|T) = \\frac{P(TinterseccaooR)}{P(T)}$ $\\Rightarrow$ $P(R|T) = \\frac{P(T|R) \\cdot P(R)}{P(T)}$ $\\quad$ **ETAPA 4**\n",
    "\n",
    "Assim, devemos calcular:\n",
    "\n",
    "* $P(T|R)$ $\\quad$ **ETAPA 3**\n",
    "\n",
    "$\\quad\\quad P(T|R) = P(palavra1|R) \\cdot P(palavra2|R) \\cdot P(palavra3|R) \\cdot ... \\cdot P(palavraN|R)$\n",
    "\n",
    "$\\quad\\quad\\quad P(palavra|R) = \\frac{x}{y}$\n",
    "\n",
    "$\\quad\\quad\\quad x=$ total de vezes que a palavra apareceu nos tweets relevantes\n",
    "\n",
    "$\\quad\\quad\\quad y=$ total de palavras dos tweets relevantes\n",
    "\n",
    "* $P(R)$\n",
    "\n",
    "$\\quad\\quad P(R) =$ $\\frac{y}{w}$ $\\quad$ **ETAPA 2** \n",
    "\n",
    "$\\quad\\quad w=$ total de palavras de todos os tweets \n",
    "\n",
    "$\\quad$ Para encontrar $y$ e $w$: $\\quad$ **ETAPA 1**\n",
    "\n",
    "$\\quad\\quad$ - Separar o DataFrame em Relevante e Irrelevante\n",
    " \n",
    "$\\quad\\quad$ - Contar quantas palavras tem nos tweets Relevantes, Irrelevantes e Total (Relevantes + Irrelevantes)\n",
    "\n",
    "* Não é preciso calcular $P(T)$, pois esse é cortado na equação de comparação (i)."
   ]
  },
  {
   "cell_type": "markdown",
   "metadata": {},
   "source": [
    "**LIMPEZA**\n",
    "\n",
    "Utilizamos duas funções de limpeza (limpandinho() e emoji()) para aumentar a precisão do classificador."
   ]
  },
  {
   "cell_type": "code",
   "execution_count": 25,
   "metadata": {},
   "outputs": [],
   "source": [
    "# funcao de limpeza \n",
    "\n",
    "def limpandinho(text):\n",
    "    \n",
    "    # palavras com suas versoes + acentucao de letras\n",
    "    dicio = {\"nao\": [\"n\",\"nn\",\"nnn\"], \n",
    "             \"sim\": [\"ss\",\"s\",\"sss\",\"siim\"], \n",
    "             \"porque\": [\"pq\",\"motivo\"],\n",
    "             \"muito\": [\"mt\"],\n",
    "             \"tudo\": [\"td\",\"todo\"],\n",
    "             \"a\": [\"ã\",\"á\",\"à\",\"â\", \"ä\"],\n",
    "             \"e\": [\"è\",\"é\",\"ê\", \"ë\"],\n",
    "             \"i\": [\"ì\",\"í\",\"î\", \"ï\"],\n",
    "             \"o\": [\"õ\",\"ò\",\"ó\",\"ô\", \"ö\"],\n",
    "             \"u\": [\"ù\",\"ú\",\"û\", \"ü\"],\n",
    "             \"c\": [\"ç\"]\n",
    "            }\n",
    "\n",
    "    valores=[]\n",
    "    for lista in dicio.values():\n",
    "        for elemento in lista:\n",
    "            valores.append(elemento)\n",
    "\n",
    "    # pega cada LETRA da frase e tira acentuacao (i) + pontuacao(ii)\n",
    "    l=[]\n",
    "    l2= []\n",
    "    for letra in text:\n",
    "        l.append(letra)\n",
    "    for letra in l:\n",
    "        if letra in valores:\n",
    "            for l_dicio in dicio.values():\n",
    "                # (i)\n",
    "                if letra in l_dicio:\n",
    "                    l2.append(list(dicio.keys())[list(dicio.values()).index(l_dicio)])\n",
    "        # (ii)\n",
    "        elif letra in [\"'\",'\"',\"|\",\"!\",\"-\",\".\",\"/\",\":\",\"?\",\";\",\",\",\")\",\"(\",\"¿\"]:\n",
    "            pass\n",
    "                    \n",
    "        else:\n",
    "            l2.append(letra)\n",
    "            \n",
    "    frase = \"\".join(l2)\n",
    "    l_palavras = frase.split()\n",
    "          \n",
    "    # pega cada PALAVRA e transforma as palavras abreviadas em seus padroes (iii) + deleta palavras sem valor (iv)\n",
    "    nova_frase=[]  \n",
    "    for palavra in l_palavras:\n",
    "        if palavra in valores:\n",
    "            for l_dicio in dicio.values():\n",
    "                # (iii)\n",
    "                if palavra in l_dicio:\n",
    "                    nova_frase.append(list(dicio.keys())[list(dicio.values()).index(l_dicio)])     \n",
    "        elif palavra[:2] == \"kk\" or palavra==\"k\":\n",
    "            palavra = \"kkk\"\n",
    "            nova_frase.append(palavra)\n",
    "            \n",
    "        # (iv)    \n",
    "        elif palavra[0] == \"@\":\n",
    "            pass\n",
    "        elif palavra[:4] == \"http\":\n",
    "            pass\n",
    "        elif palavra in [\"de\",\"da\",\"do\",\"era\",\"em\",\"que\",\"q\",\"oq\"]:\n",
    "            pass\n",
    "        else:\n",
    "            nova_frase.append(palavra)\n",
    "    \n",
    "    # retorna a frase ja chamando a funcao emoji()\n",
    "    return emoji(\" \".join(nova_frase))\n"
   ]
  },
  {
   "cell_type": "code",
   "execution_count": 26,
   "metadata": {},
   "outputs": [],
   "source": [
    "# funcao de limpeza \n",
    "\n",
    "# garante que aja espacamento antes e depois de cada emoji\n",
    "def emoji(frase):\n",
    "    l= []\n",
    "    for palavra in frase:\n",
    "        for letra in palavra:\n",
    "            l.append(letra)\n",
    "\n",
    "    f= \"\"\n",
    "    for n in range(len(l)):\n",
    "        codigo = l[n].encode(\"utf-8\")\n",
    "\n",
    "        if len(codigo) != len(l[n]):\n",
    "\n",
    "            if n == len(l)-1:\n",
    "                if l[n-1] != \" \":  f+= \" \" + l[n]\n",
    "                else: f+= l[n]\n",
    "            elif n == 0:\n",
    "                if l[n+1] != \" \":  f+= l[n] + \" \"\n",
    "                else: f+= l[n]\n",
    "\n",
    "            elif l[n-1] == \" \" and l[n+1] == \" \":  f+= l[n]\n",
    "\n",
    "            elif l[n-1] != \" \" and l[n+1] == \" \": f+= \" \" + l[n]\n",
    "\n",
    "            elif l[n-1] == \" \" and l[n+1] != \" \": f+= l[n] + \" \"\n",
    "\n",
    "            elif l[n-1] != \" \" and l[n+1] != \" \": f+= \" \" + l[n] + \" \"\n",
    "\n",
    "        else: f+= l[n]\n",
    "            \n",
    "    return f"
   ]
  },
  {
   "cell_type": "markdown",
   "metadata": {},
   "source": [
    "**ETAPA 1**\n",
    "\n",
    "$y=$ total de palavras dos tweets relevantes e irrelevantes\n",
    "\n",
    "$w=$ total de palavras de todos os tweets "
   ]
  },
  {
   "cell_type": "code",
   "execution_count": 27,
   "metadata": {},
   "outputs": [],
   "source": [
    "# separando a tabela de treinamento em relevante e irrelevante \n",
    "\n",
    "train_i = train.loc[train.Classificação==\"Irrelevante\",:]\n",
    "\n",
    "train_r = train.loc[train.Classificação==\"Relevante\",:]"
   ]
  },
  {
   "cell_type": "code",
   "execution_count": 28,
   "metadata": {},
   "outputs": [],
   "source": [
    "# limpando, juntando todas as frases da tabela treinamento e individualizando cada palavra\n",
    "\n",
    "# para tabela total\n",
    "l_t=[]\n",
    "for i in train.Treinamento:\n",
    "    l_t.append(limpandinho(i))\n",
    "l_t = \" \".join(l_t).split()\n",
    "\n",
    "\n",
    "# para tabela somente relevante\n",
    "l_r=[]\n",
    "for i in train_r.Treinamento:\n",
    "    l_r.append(limpandinho(i))   \n",
    "l_r = \" \".join(l_r).split()\n",
    "\n",
    "\n",
    "# para tabela somente irrelevante \n",
    "l_i=[]\n",
    "for i in train_i.Treinamento:\n",
    "    l_i.append(limpandinho(i))    \n",
    "l_i = \" \".join(l_i).split()"
   ]
  },
  {
   "cell_type": "code",
   "execution_count": 29,
   "metadata": {},
   "outputs": [],
   "source": [
    "# contagem das palavras\n",
    "\n",
    "# para tabela total\n",
    "tab_total = pd.Series(l_t)\n",
    "tab_total_a = tab_total.value_counts()\n",
    "tab_total_r = tab_total.value_counts(True)\n",
    "\n",
    "# para tabela somente relevante\n",
    "tab_rel = pd.Series(l_r)\n",
    "tab_rel_a = tab_rel.value_counts()\n",
    "tab_rel_r = tab_rel.value_counts(True)\n",
    "\n",
    "# para tabela somente irrelevante \n",
    "tab_irr = pd.Series(l_i)\n",
    "tab_irr_a = tab_irr.value_counts()\n",
    "tab_irr_r = tab_irr.value_counts(True)"
   ]
  },
  {
   "cell_type": "markdown",
   "metadata": {},
   "source": [
    "**ETAPA 2** \n",
    "\n",
    "$P(R)$ e $P(I)$"
   ]
  },
  {
   "cell_type": "code",
   "execution_count": 30,
   "metadata": {},
   "outputs": [],
   "source": [
    "# probabilidade de ser relevante\n",
    "probR = sum(tab_rel_a)/sum(tab_total_a)\n",
    "\n",
    "# probabilidade de ser irrelevante\n",
    "probI = sum(tab_irr_a)/sum(tab_total_a)"
   ]
  },
  {
   "cell_type": "markdown",
   "metadata": {},
   "source": [
    "**ETAPA 3**\n",
    "\n",
    "$P(T|R)$ e $P(T|I)$"
   ]
  },
  {
   "cell_type": "code",
   "execution_count": 31,
   "metadata": {
    "scrolled": false
   },
   "outputs": [],
   "source": [
    "# todos os tipos de palavras que aparecem na tabela treinamento (para Laplace smoothing)\n",
    "\n",
    "palavras_unicas_total=[]\n",
    "for i in l_t:\n",
    "    if i not in palavras_unicas_total:\n",
    "        palavras_unicas_total.append(i)"
   ]
  },
  {
   "cell_type": "code",
   "execution_count": 32,
   "metadata": {},
   "outputs": [],
   "source": [
    "# limpando e separando cada frase da tabela teste\n",
    "\n",
    "l_teste=[]\n",
    "for i in test.Teste:\n",
    "    c = limpandinho(i)\n",
    "    l_teste.append(c.split())"
   ]
  },
  {
   "cell_type": "markdown",
   "metadata": {},
   "source": [
    "**ETAPA 3, 4 e 5**"
   ]
  },
  {
   "cell_type": "code",
   "execution_count": 33,
   "metadata": {},
   "outputs": [],
   "source": [
    "# criando um DataFrame para o computador preencher\n",
    "\n",
    "data = {'Tweet':  [],\n",
    "        'Classificação': [],\n",
    "        }\n",
    "\n",
    "novo = pd.DataFrame(data, columns = ['Tweet','Classificação'])"
   ]
  },
  {
   "cell_type": "code",
   "execution_count": 34,
   "metadata": {},
   "outputs": [],
   "source": [
    "# Legenda: T == Tweet (ex: probTDadoR == prob Tweet dado Relevante)\n",
    "\n",
    "# contador para acessar a linha desejada\n",
    "contador = 0\n",
    "for frase in l_teste:\n",
    "    \n",
    "    # ETAPA 3  P(T|R) e P(T|I)\n",
    "    probTDadoR = 1\n",
    "    for palavra in frase:\n",
    "        # Laplace smoothing\n",
    "        if palavra in tab_rel_a:\n",
    "            probTDadoR*=(tab_rel_a[palavra] + 1) / (len(tab_rel) + len(palavras_unicas_total))\n",
    "        else:\n",
    "            probTDadoR*=(0 + 1) / (len(tab_rel) + len(palavras_unicas_total))\n",
    "                    \n",
    "    probTDadoI = 1\n",
    "    for palavra in frase:\n",
    "        # Laplace smoothing\n",
    "        if palavra in tab_irr_a:\n",
    "            probTDadoI*=(tab_irr_a[palavra] + 1) / (len(tab_irr) + len(palavras_unicas_total))\n",
    "        else:\n",
    "            probTDadoI*=(0 + 1) / (len(tab_irr) + len(palavras_unicas_total))\n",
    "      \n",
    "    # ETAPA 4  P(R|T) e P(I|T)\n",
    "    probRdadoT = probTDadoR*probR\n",
    "    \n",
    "    probIdadoT = probTDadoI*probI\n",
    " \n",
    "    # ETAPA 5\n",
    "    # comparacao das probabilidades + montando a tabela\n",
    "    if probRdadoT>probIdadoT:\n",
    "        \n",
    "        novo.loc[contador,\"Tweet\"]= \" \".join(frase)\n",
    "        novo.loc[novo.Tweet==\" \".join(frase),\"Classificação\"] = \"Relevante\"\n",
    "    \n",
    "    elif probRdadoT<probIdadoT:\n",
    "        \n",
    "        novo.loc[contador,\"Tweet\"]=\" \".join(frase)\n",
    "        novo.loc[novo.Tweet==\" \".join(frase),\"Classificação\"] = \"Irrelevante\"\n",
    "    \n",
    "    contador+=1"
   ]
  },
  {
   "cell_type": "markdown",
   "metadata": {},
   "source": [
    "___\n",
    "### Verificando a performance do Classificador\n",
    "\n",
    "Agora você deve testar o seu classificador com a base de Testes."
   ]
  },
  {
   "cell_type": "code",
   "execution_count": 35,
   "metadata": {
    "scrolled": true
   },
   "outputs": [],
   "source": [
    "# criando nova coluna \n",
    "novo[\"Performance\"] = \"nada\"\n",
    "\n",
    "# verificando e preenchendo a tabela\n",
    "for i in range(len(novo)):\n",
    "    if novo.iloc[i, 1] == test.iloc[i,1]:\n",
    "        if novo.iloc[i, 1] == \"Relevante\": novo.iloc[i, 2]=\"VP\"\n",
    "            \n",
    "        else: novo.iloc[i, 2]=\"VN\"  \n",
    "    \n",
    "    elif novo.iloc[i, 1] != test.iloc[i,1]:       \n",
    "        if novo.iloc[i, 1] == \"Relevante\": novo.iloc[i, 2]=\"FP\"\n",
    "            \n",
    "        else: novo.iloc[i, 2]=\"FN\"            "
   ]
  },
  {
   "cell_type": "code",
   "execution_count": 37,
   "metadata": {
    "scrolled": false
   },
   "outputs": [
    {
     "name": "stdout",
     "output_type": "stream",
     "text": [
      "Porcentagem de verdadeiros positivos: 12.5\n",
      "Porcentagem de falsos positivos: 16.0\n",
      "Porcentagem de verdadeiros negativos: 55.0\n",
      "Porcentagem de falsos negativos: 16.5\n"
     ]
    }
   ],
   "source": [
    "# calculo das porcentagens\n",
    "\n",
    "P = novo.Performance.value_counts(normalize=True).round(4)*100\n",
    "vp = P[\"VP\"]\n",
    "fp = P[\"FP\"]\n",
    "vn = P[\"VN\"]\n",
    "fn = P[\"FN\"]\n",
    "print(f\"Porcentagem de verdadeiros positivos: {vp:.1f}\")\n",
    "print(f\"Porcentagem de falsos positivos: {fp:.1f}\")\n",
    "print(f\"Porcentagem de verdadeiros negativos: {vn:.1f}\")\n",
    "print(f\"Porcentagem de falsos negativos: {fn:.1f}\")"
   ]
  },
  {
   "cell_type": "markdown",
   "metadata": {},
   "source": [
    "__________\n",
    "### Concluindo"
   ]
  },
  {
   "cell_type": "code",
   "execution_count": 38,
   "metadata": {
    "scrolled": false
   },
   "outputs": [
    {
     "data": {
      "text/html": [
       "<div>\n",
       "<style scoped>\n",
       "    .dataframe tbody tr th:only-of-type {\n",
       "        vertical-align: middle;\n",
       "    }\n",
       "\n",
       "    .dataframe tbody tr th {\n",
       "        vertical-align: top;\n",
       "    }\n",
       "\n",
       "    .dataframe thead th {\n",
       "        text-align: right;\n",
       "    }\n",
       "</style>\n",
       "<table border=\"1\" class=\"dataframe\">\n",
       "  <thead>\n",
       "    <tr style=\"text-align: right;\">\n",
       "      <th>Classificação</th>\n",
       "      <th>Irrelevante</th>\n",
       "      <th>Relevante</th>\n",
       "      <th>All</th>\n",
       "    </tr>\n",
       "    <tr>\n",
       "      <th>Performance</th>\n",
       "      <th></th>\n",
       "      <th></th>\n",
       "      <th></th>\n",
       "    </tr>\n",
       "  </thead>\n",
       "  <tbody>\n",
       "    <tr>\n",
       "      <th>FN</th>\n",
       "      <td>23.08</td>\n",
       "      <td>0.00</td>\n",
       "      <td>16.5</td>\n",
       "    </tr>\n",
       "    <tr>\n",
       "      <th>FP</th>\n",
       "      <td>0.00</td>\n",
       "      <td>56.14</td>\n",
       "      <td>16.0</td>\n",
       "    </tr>\n",
       "    <tr>\n",
       "      <th>VN</th>\n",
       "      <td>76.92</td>\n",
       "      <td>0.00</td>\n",
       "      <td>55.0</td>\n",
       "    </tr>\n",
       "    <tr>\n",
       "      <th>VP</th>\n",
       "      <td>0.00</td>\n",
       "      <td>43.86</td>\n",
       "      <td>12.5</td>\n",
       "    </tr>\n",
       "  </tbody>\n",
       "</table>\n",
       "</div>"
      ],
      "text/plain": [
       "Classificação  Irrelevante  Relevante   All\n",
       "Performance                                \n",
       "FN                   23.08       0.00  16.5\n",
       "FP                    0.00      56.14  16.0\n",
       "VN                   76.92       0.00  55.0\n",
       "VP                    0.00      43.86  12.5"
      ]
     },
     "execution_count": 38,
     "metadata": {},
     "output_type": "execute_result"
    }
   ],
   "source": [
    "pd.crosstab(novo.Performance, novo.Classificação, margins= True, normalize=\"columns\").round(4)*100"
   ]
  },
  {
   "cell_type": "markdown",
   "metadata": {},
   "source": [
    "### Performance do classificador:"
   ]
  },
  {
   "cell_type": "markdown",
   "metadata": {},
   "source": [
    "$\\quad$Obtivemos uma porcentagem de acerto moderado para alto, de 67,5%.\n",
    "\n",
    "$\\quad$Observa-se uma maior frequência de porcentagens dos irrelevantes, isso pode ter occorrido devido a nossa base de dados em treinamento ter uma maior porcentagem de irrelevantes. E consequentemente, a frequência dos relevantes é menor devido a sua menor porcentagem na base de dados em treinamentos.\n",
    "\n",
    "$\\quad$Por conta da menor porcentagem de relevantes na base de dados treinamento, o computador tem uma base de dados mais vaga sobre o que seria um tweet relevante, dificultando uma classificação eficaz dos tweets e também justificando o motivo de a discrepância entre falsos positivos e verdadeiros positivos ser pequena. E o mesmo vale para explicar a discrepância entre os irrelevantes, em que a base de dados é maior e por isso a classificação é mais eficiente."
   ]
  },
  {
   "cell_type": "markdown",
   "metadata": {},
   "source": [
    "### Mensagens com dupla negação e sarcasmo:"
   ]
  },
  {
   "cell_type": "markdown",
   "metadata": {},
   "source": [
    "$\\quad$ As mensagens com dupla negação e sarcasmo são tratadas como indiferentes pelo Classificador, ou seja não são identificados. Isso ocorre pelo Classificador não interpretar o contexto da mensagem ou mesmo o sentido da palavra, apenas considerando a palavra como um elemento independente. A única influência do sarcasmo foi na classificação prévia do tweet, onde nós mesmos declaramos se o tweet é relevante ou irrelevante, levando em consideração o nosso próprio julgamento."
   ]
  },
  {
   "cell_type": "markdown",
   "metadata": {},
   "source": [
    "### Plano de expansão:"
   ]
  },
  {
   "cell_type": "markdown",
   "metadata": {},
   "source": [
    "Visamos duas possíveis expansões, para que a empresa continue nos financiando:\n",
    "\n",
    "* Para obtermos uma maior acuracidade, aumentaríamos a base de dados em treinamento dos tweets relevantes, igualando a proporção entre os tweets relevantes e irrelevantes, a fim de o Classificador ter uma maior \"noção\" do que é um tweet relevante.\n",
    "\n",
    "* Para melhorar a análise e o aproveitamento dos tweets pela empresa, classificaríamos os tweets relevantes em áreas de interesse, como: \"marketing\", \"parcerias\", \"feedback\", entre outras."
   ]
  },
  {
   "cell_type": "markdown",
   "metadata": {},
   "source": [
    "___\n",
    "### Qualidade do Classificador a partir de novas separações dos tweets entre Treinamento e Teste\n",
    "\n",
    "Caso for fazer esse item do Projeto"
   ]
  },
  {
   "cell_type": "code",
   "execution_count": 39,
   "metadata": {},
   "outputs": [],
   "source": [
    "# funcao para calcular as porcentagens\n",
    "\n",
    "# copia das celulas anteriores\n",
    "def testandinho():\n",
    "    data = {'Tweet':  [],\n",
    "        'Classificação': [],\n",
    "        }\n",
    "\n",
    "    train22 = pd.DataFrame(data, columns = ['Tweet','Classificação'])\n",
    "    \n",
    "    data = {'Tweet':  [],\n",
    "        'Classificação': [],\n",
    "        }\n",
    "\n",
    "    test22 = pd.DataFrame(data, columns = ['Tweet','Classificação'])\n",
    "    \n",
    "    data = {'Tweet':  [],\n",
    "        'Classificação': [],\n",
    "        }\n",
    "\n",
    "    novo2 = pd.DataFrame(data, columns = ['Tweet','Classificação'])\n",
    "    \n",
    "    test2 = []\n",
    "    train2 = []\n",
    "    clas_test= []\n",
    "    clas_train= []\n",
    "\n",
    "    numeros = []\n",
    "    for n in range(500):\n",
    "        numeros.append(n)\n",
    "\n",
    "    while True:\n",
    "        if len(numeros)== 0:\n",
    "            break\n",
    "        random.shuffle(numeros)\n",
    "        test2.append(tetra.iloc[numeros[0],0])\n",
    "        clas_test.append(tetra.iloc[numeros[0],1])\n",
    "\n",
    "        train2.append(tetra.iloc[numeros[1],0])\n",
    "        clas_train.append(tetra.iloc[numeros[0],1])\n",
    "\n",
    "        numeros.remove(numeros[0])\n",
    "        numeros.remove(numeros[0])\n",
    "        \n",
    "    contador = 0\n",
    "    while True:\n",
    "        try:\n",
    "            train22.loc[contador,\"Tweet\"]= train2[contador]\n",
    "            train22.loc[contador,\"Classificação\"]= clas_train[contador]\n",
    "\n",
    "            test22.loc[contador,\"Tweet\"]= test2[contador]\n",
    "            test22.loc[contador,\"Classificação\"]= clas_test[contador]\n",
    "        except:\n",
    "            try:\n",
    "                test22.loc[contador,\"Tweet\"]= test2[contador]\n",
    "                test22.loc[contador,\"Classificação\"]= clas_test[contador]\n",
    "            except:\n",
    "                break\n",
    "        contador+=1\n",
    "    \n",
    "    train22_r = train22.loc[train22.Classificação==\"Relevante\",:]\n",
    "    train22_irr = train22.loc[train22.Classificação==\"Irrelevante\",:]\n",
    "    \n",
    "    l_train22_t=[]\n",
    "    for i in train22.Tweet:\n",
    "        l_train22_t.append(limpandinho(i))\n",
    "    l_train22_t = \" \".join(l_train22_t).split()\n",
    "\n",
    "    l_train22_r=[]\n",
    "    for i in train22_r.Tweet:\n",
    "        l_train22_r.append(limpandinho(i))\n",
    "    l_train22_r = \" \".join(l_train22_r).split()\n",
    "\n",
    "    l_train22_irr=[]\n",
    "    for i in train22_irr.Tweet:\n",
    "        l_train22_irr.append(limpandinho(i))\n",
    "    l_train22_irr = \" \".join(l_train22_irr).split()\n",
    "    \n",
    "    tab_train22_t = pd.Series(l_train22_t)\n",
    "    tab_train22_t_a = tab_train22_t.value_counts()\n",
    "    tab_train22_t_r = tab_train22_t.value_counts(True)\n",
    "\n",
    "    tab_train22_rel = pd.Series(l_train22_r)\n",
    "    tab_train22_rel_a = tab_train22_rel.value_counts()\n",
    "    tab_train22_rel_r = tab_train22_rel.value_counts(True)\n",
    "\n",
    "    tab_train22_irr = pd.Series(l_train22_irr)\n",
    "    tab_train22_irr_a = tab_train22_irr.value_counts()\n",
    "    tab_train22_irr_r = tab_train22_irr.value_counts(True)\n",
    "    \n",
    "    probR = sum(tab_train22_rel_a)/sum(tab_train22_t_a)\n",
    "    probI = sum(tab_train22_irr_a)/sum(tab_train22_t_a)\n",
    "    \n",
    "    palavras_unicas_total=[]\n",
    "    for i in l_train22_t:\n",
    "        if i not in palavras_unicas_total:\n",
    "            palavras_unicas_total.append(i)\n",
    "            \n",
    "    l_teste2=[]\n",
    "    for i in test22.Tweet:\n",
    "        c = limpandinho(i)\n",
    "        l_teste2.append(c.split())\n",
    "        \n",
    "    contador = 0\n",
    "    for frase in l_teste2:\n",
    "        probTDadoR = 1\n",
    "        for palavra in frase:\n",
    "            # Laplace smoothing\n",
    "            if palavra in tab_train22_rel_a:\n",
    "                probTDadoR*=(tab_train22_rel_a[palavra] + 1) / (len(tab_train22_rel) + len(palavras_unicas_total))\n",
    "            else:\n",
    "                probTDadoR*=(0 + 1) / (len(tab_train22_rel) + len(palavras_unicas_total))\n",
    "\n",
    "\n",
    "        probTDadoI = 1\n",
    "        for palavra in frase:\n",
    "            # Laplace smoothing\n",
    "            if palavra in tab_train22_irr_a:\n",
    "                probTDadoI*=(tab_train22_irr_a[palavra] + 1) / (len(tab_train22_irr) + len(palavras_unicas_total))\n",
    "            else:\n",
    "                probTDadoI*=(0 + 1) / (len(tab_train22_irr) + len(palavras_unicas_total))\n",
    "\n",
    "        probRdadoT = probTDadoR*probR\n",
    "\n",
    "        probIdadoT = probTDadoI*probI\n",
    "\n",
    "        if probRdadoT>probIdadoT:\n",
    "\n",
    "            novo2.loc[contador,\"Tweet\"]= \" \".join(frase)\n",
    "            novo2.loc[novo2.Tweet==\" \".join(frase),\"Classificação\"] = \"Relevante\"\n",
    "\n",
    "        elif probRdadoT<probIdadoT:\n",
    "\n",
    "            novo2.loc[contador,\"Tweet\"]=\" \".join(frase)\n",
    "            novo2.loc[novo2.Tweet==\" \".join(frase),\"Classificação\"] = \"Irrelevante\"\n",
    "\n",
    "        contador+=1\n",
    "        \n",
    "    novo2[\"Performance\"] = \"nada\"\n",
    "    for i in range(len(novo2)):\n",
    "        if novo2.iloc[i, 1] == test22.iloc[i,1]:\n",
    "            if novo2.iloc[i, 1] == \"Relevante\": novo2.iloc[i, 2]=\"VP\"\n",
    "\n",
    "            else: novo2.iloc[i, 2]=\"VN\"  \n",
    "\n",
    "        elif novo2.iloc[i, 1] != test22.iloc[i,1]:       \n",
    "            if novo2.iloc[i, 1] == \"Relevante\": novo2.iloc[i, 2]=\"FP\"\n",
    "\n",
    "            else: novo2.iloc[i, 2]=\"FN\"\n",
    "    \n",
    "    P = novo2.Performance.value_counts(normalize=True).round(4)*100\n",
    "    vp = P[\"VP\"]\n",
    "    fp = P[\"FP\"]\n",
    "    vn = P[\"VN\"]\n",
    "    fn = P[\"FN\"]\n",
    "    return vn + vp"
   ]
  },
  {
   "cell_type": "code",
   "execution_count": 40,
   "metadata": {},
   "outputs": [],
   "source": [
    "# criando um DataFrame\n",
    "\n",
    "data = {'Tweet':  [],\n",
    "        'Classificação': [],\n",
    "        }\n",
    "\n",
    "tetra = pd.DataFrame(data, columns = ['Tweet','Classificação'])"
   ]
  },
  {
   "cell_type": "code",
   "execution_count": 41,
   "metadata": {},
   "outputs": [],
   "source": [
    "# criando um DataFrame com tweets de test + train\n",
    "\n",
    "contador= 0\n",
    "while True:\n",
    "    try:\n",
    "        tetra.loc[contador,\"Tweet\"]= test.loc[contador,\"Teste\"]\n",
    "        tetra.loc[contador,[\"Classificação\"]]= test.loc[contador,[\"Classificação\"]]\n",
    "    except:\n",
    "        try:\n",
    "            tetra.loc[contador,\"Tweet\"]= train.loc[contador-200,\"Treinamento\"]\n",
    "            tetra.loc[contador,[\"Classificação\"]]= train.loc[contador-200,[\"Classificação\"]]\n",
    "        except:\n",
    "            break\n",
    "    contador+= 1"
   ]
  },
  {
   "cell_type": "code",
   "execution_count": 43,
   "metadata": {
    "scrolled": false
   },
   "outputs": [
    {
     "name": "stdout",
     "output_type": "stream",
     "text": [
      "Contagem 0\n",
      "Contagem 10\n",
      "Contagem 20\n",
      "Contagem 30\n",
      "Contagem 40\n",
      "Contagem 50\n",
      "Contagem 60\n",
      "Contagem 70\n",
      "Contagem 80\n",
      "Contagem 90\n",
      "Contagem 100\n"
     ]
    }
   ],
   "source": [
    "vezes= 100\n",
    "lista= []\n",
    "for i in range(vezes):\n",
    "    lista.append(round(testandinho(), 2))\n",
    "    if i%10== 0:\n",
    "        print(\"Contagem\", i)\n",
    "    if i== vezes-1:\n",
    "        print(\"Contagem\", vezes)"
   ]
  },
  {
   "cell_type": "code",
   "execution_count": 44,
   "metadata": {},
   "outputs": [],
   "source": [
    "porcentagens= pd.Series(lista)"
   ]
  },
  {
   "cell_type": "code",
   "execution_count": 45,
   "metadata": {
    "scrolled": true
   },
   "outputs": [
    {
     "data": {
      "text/plain": [
       "count    100.00\n",
       "mean      59.22\n",
       "std        3.25\n",
       "min       50.40\n",
       "25%       57.10\n",
       "50%       59.00\n",
       "75%       61.60\n",
       "max       66.80\n",
       "dtype: float64"
      ]
     },
     "execution_count": 45,
     "metadata": {},
     "output_type": "execute_result"
    }
   ],
   "source": [
    "# medidas resumo\n",
    "\n",
    "porcentagens.describe().round(2)"
   ]
  },
  {
   "cell_type": "code",
   "execution_count": 58,
   "metadata": {},
   "outputs": [],
   "source": [
    "mini= min(porcentagens)-5\n",
    "maxi= max(porcentagens)+5\n",
    "\n",
    "faixa= np.arange(mini, maxi, 1)"
   ]
  },
  {
   "cell_type": "code",
   "execution_count": 59,
   "metadata": {
    "scrolled": true
   },
   "outputs": [
    {
     "data": {
      "image/png": "[encoded data removed]",
      "text/plain": [
       "<Figure size 432x288 with 1 Axes>"
      ]
     },
     "metadata": {
      "needs_background": "light"
     },
     "output_type": "display_data"
    }
   ],
   "source": [
    "plt.hist(porcentagens, faixa, edgecolor=\"black\", density= True)\n",
    "plt.title(f\"Classificador {vezes}x\")\n",
    "plt.xlabel(\"Porcentagem de acertos\")\n",
    "plt.ylabel(\"densidade\")\n",
    "\n",
    "plt.show()"
   ]
  },
  {
   "cell_type": "markdown",
   "metadata": {},
   "source": [
    "### Discussão sobre o histograma:"
   ]
  },
  {
   "cell_type": "markdown",
   "metadata": {},
   "source": [
    "$\\quad$Dentro das 100 Classificações, obtivemos uma média de acerto moderada de aproximadamente 60%.\n",
    "\n",
    "$\\quad$A desvantagem de se construir um Classificador considerando uma única vez a divisão da base de dados em treinamento e teste é a chance de o classificador não estar de acordo com a realidade (porcentagem de acerto de 60%), podendo ter uma porcentagem de acerto muito abaixo da média ou muito acima da média.\n",
    "\n",
    "$\\quad$Ao construir a base de dados em treinamento aleatóriamente, há a chance de se pegar muitos dados relevantes ou muitos dados irrelevantes, tendendo o classificador a uma dessas extremidades, e assim, perdendo a sua acurácia. Acreditamos que por isso, há algumas porcentagens no histograma significamente fora da média."
   ]
  },
  {
   "cell_type": "markdown",
   "metadata": {},
   "source": [
    "### Porquê não se pode usar o próprio classificador para gerar mais amostras de treinamento:"
   ]
  },
  {
   "cell_type": "markdown",
   "metadata": {},
   "source": [
    "$\\quad$A partir da base de dados em treinamento, o Classificador define o que considera relevante e o que considera irrelevante. Sabemos que nem sempre a definição do Classificador bate com a definição real e, portanto, sabemos que apresenta certos erros. Ao Classificador alimentar a sua própria base de treinamento, esses erros se tornam \"verdades\", o que diminui a sua precisão, pois agora a verdade para o Classificador não é de fato a verdade dada por nós."
   ]
  },
  {
   "cell_type": "markdown",
   "metadata": {},
   "source": [
    "### Diferentes cenários para Naïve Bayes fora do contexto do projeto:"
   ]
  },
  {
   "cell_type": "markdown",
   "metadata": {},
   "source": [
    "**1. Previsão do tempo:** \n",
    "\n",
    "$\\quad$Usaríamos o Naive Bayers para identificar um padrão nas condições prévias de determinados climas, e assim, dados certas condições o Classificador poderia declarar qual a previsão do tempo.\n",
    "\n",
    "$\\quad$Exemplo: \"Umidade\", \"Luminosidade\", \"Temperatura\", etc. $\\Rightarrow$ \"Sol\" ou \"Chuva\" ou \"Granizo\" ou etc.\n",
    "\n",
    "**2. Identificação de pessoas de exatas, humanas e biológicas:**\n",
    "\n",
    "$\\quad$A partir do seu perfil escolar, como: notas, atividades extracurrículares, gostos, etc. O Classificador identificaria um padrão e conseguiria determinar qual área o aluno se encaixaria melhor. Essa análise ajudaria em testes vocacionais, onde a pessoa teria um melhor direcionamento baseado em pessoas com o mesmo perfil."
   ]
  },
  {
   "cell_type": "markdown",
   "metadata": {},
   "source": [
    "### Melhoria para o Classificador Naive-Bayes:"
   ]
  },
  {
   "cell_type": "markdown",
   "metadata": {},
   "source": [
    "**TF-IDF**\n",
    "\n",
    "$\\quad$Implementaríamos o medidor TF-IDF para valorizar as palavras que aparecem com maior frequência em somente uma das classificações (Relevante ou Irrelevante) e com menor frequência na outra classificação; e desvalorizar as palavras que aparecem com altas frequências nas duas classificações. Essa melhoria permitiria o classificador identificar palavras-chave nas categorias relevante e irrelevante, o que acarretaria em um julgamento mais iniludível.\n",
    "\n",
    "**Link para a matéria:**\n",
    "https://medium.com/turing-talks/introdu%C3%A7%C3%A3o-a-bag-of-words-e-tf-idf-43a128151ce9"
   ]
  },
  {
   "cell_type": "markdown",
   "metadata": {},
   "source": [
    "___\n",
    "## Aperfeiçoamento:\n",
    "\n",
    "Os trabalhos vão evoluir em conceito dependendo da quantidade de itens avançados:\n",
    "\n",
    "* ~~Limpar: \\n, :, \", ', (, ), etc SEM remover emojis~~\n",
    "* ~~Corrigir separação de espaços entre palavras e emojis ou entre emojis e emojis~~\n",
    "* ~~Propor outras limpezas e transformações que não afetem a qualidade da informação ou classificação~~\n",
    "* Criar categorias intermediárias de relevância baseadas na probabilidade: ex.: muito relevante, relevante, neutro, irrelevante, muito irrelevante (3 categorias: C, mais categorias conta para B)\n",
    "* ~~Explicar por que não posso usar o próprio classificador para gerar mais amostras de treinamento~~\n",
    "* ~~Propor diferentes cenários para Naïve Bayes fora do contexto do projeto~~\n",
    "* ~~Sugerir e explicar melhorias reais com indicações concretas de como implementar (indicar como fazer e indicar material de pesquisa)~~\n"
   ]
  },
  {
   "cell_type": "markdown",
   "metadata": {},
   "source": [
    "___\n",
    "## Referências"
   ]
  },
  {
   "cell_type": "markdown",
   "metadata": {},
   "source": [
    "[Naive Bayes and Text Classification](https://arxiv.org/pdf/1410.5329.pdf)  **Mais completo**\n",
    "\n",
    "[A practical explanation of a Naive Bayes Classifier](https://monkeylearn.com/blog/practical-explanation-naive-bayes-classifier/) **Mais simples**"
   ]
  }
 ],
 "metadata": {
  "kernelspec": {
   "display_name": "Python 3",
   "language": "python",
   "name": "python3"
  },
  "language_info": {
   "codemirror_mode": {
    "name": "ipython",
    "version": 3
   },
   "file_extension": ".py",
   "mimetype": "text/x-python",
   "name": "python",
   "nbconvert_exporter": "python",
   "pygments_lexer": "ipython3",
   "version": "3.8.8"
  }
 },
 "nbformat": 4,
 "nbformat_minor": 4
}
