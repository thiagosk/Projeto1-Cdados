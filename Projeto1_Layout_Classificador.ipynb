{
 "cells": [
  {
   "cell_type": "markdown",
   "metadata": {},
   "source": [
    "# Projeto 1 - Ciência dos Dados"
   ]
  },
  {
   "cell_type": "markdown",
   "metadata": {},
   "source": [
    "Nome: Pedro Herique Britto Aragão Andrade\n",
    "\n",
    "Nome: Thiago Shiguero Kawahara"
   ]
  },
  {
   "cell_type": "markdown",
   "metadata": {},
   "source": [
    "Atenção: Serão permitidos grupos de três pessoas, mas com uma rubrica mais exigente. Grupos deste tamanho precisarão fazer um questionário de avaliação de trabalho em equipe"
   ]
  },
  {
   "cell_type": "markdown",
   "metadata": {},
   "source": [
    "___\n",
    "Carregando algumas bibliotecas:"
   ]
  },
  {
   "cell_type": "code",
   "execution_count": 19,
   "metadata": {},
   "outputs": [],
   "source": [
    "%matplotlib inline\n",
    "import pandas as pd\n",
    "import matplotlib.pyplot as plt\n",
    "import numpy as np\n",
    "import os\n",
    "import re \n",
    "from unicodedata import normalize"
   ]
  },
  {
   "cell_type": "code",
   "execution_count": 20,
   "metadata": {
    "scrolled": false
   },
   "outputs": [
    {
     "name": "stdout",
     "output_type": "stream",
     "text": [
      "Esperamos trabalhar no diretório\n",
      "C:\\Users\\thiag\\Projeto1-Cdados\n"
     ]
    }
   ],
   "source": [
    "print('Esperamos trabalhar no diretório')\n",
    "print(os.getcwd())"
   ]
  },
  {
   "cell_type": "markdown",
   "metadata": {},
   "source": [
    "Carregando a base de dados com os tweets classificados como relevantes e não relevantes:"
   ]
  },
  {
   "cell_type": "code",
   "execution_count": 21,
   "metadata": {},
   "outputs": [],
   "source": [
    "filename = 'Pringles.xlsx'"
   ]
  },
  {
   "cell_type": "code",
   "execution_count": 22,
   "metadata": {},
   "outputs": [
    {
     "data": {
      "text/html": [
       "<div>\n",
       "<style scoped>\n",
       "    .dataframe tbody tr th:only-of-type {\n",
       "        vertical-align: middle;\n",
       "    }\n",
       "\n",
       "    .dataframe tbody tr th {\n",
       "        vertical-align: top;\n",
       "    }\n",
       "\n",
       "    .dataframe thead th {\n",
       "        text-align: right;\n",
       "    }\n",
       "</style>\n",
       "<table border=\"1\" class=\"dataframe\">\n",
       "  <thead>\n",
       "    <tr style=\"text-align: right;\">\n",
       "      <th></th>\n",
       "      <th>Treinamento</th>\n",
       "      <th>Classificação</th>\n",
       "    </tr>\n",
       "  </thead>\n",
       "  <tbody>\n",
       "    <tr>\n",
       "      <th>0</th>\n",
       "      <td>eu 🤝 comer pringles com danette\\n\\n   combinaç...</td>\n",
       "      <td>Relevante</td>\n",
       "    </tr>\n",
       "    <tr>\n",
       "      <th>1</th>\n",
       "      <td>@englantinez pipoca, bolinha de amendoim ou ba...</td>\n",
       "      <td>Relevante</td>\n",
       "    </tr>\n",
       "    <tr>\n",
       "      <th>2</th>\n",
       "      <td>chorando e comendo pringles</td>\n",
       "      <td>Irrelevante</td>\n",
       "    </tr>\n",
       "    <tr>\n",
       "      <th>3</th>\n",
       "      <td>leticia podendo me viciar em tanta coisa me vi...</td>\n",
       "      <td>Relevante</td>\n",
       "    </tr>\n",
       "    <tr>\n",
       "      <th>4</th>\n",
       "      <td>vontade de uma pringles ughhhhh</td>\n",
       "      <td>Irrelevante</td>\n",
       "    </tr>\n",
       "  </tbody>\n",
       "</table>\n",
       "</div>"
      ],
      "text/plain": [
       "                                         Treinamento Classificação\n",
       "0  eu 🤝 comer pringles com danette\\n\\n   combinaç...     Relevante\n",
       "1  @englantinez pipoca, bolinha de amendoim ou ba...     Relevante\n",
       "2                        chorando e comendo pringles   Irrelevante\n",
       "3  leticia podendo me viciar em tanta coisa me vi...     Relevante\n",
       "4                    vontade de uma pringles ughhhhh   Irrelevante"
      ]
     },
     "execution_count": 22,
     "metadata": {},
     "output_type": "execute_result"
    }
   ],
   "source": [
    "train = pd.read_excel(filename, sheet_name = 'Treinamento')\n",
    "\n",
    "train.Classificação = train.Classificação.astype('category')\n",
    "train.Classificação.cat.categories = (['Irrelevante', 'Relevante'])\n",
    "\n",
    "train.head(5)"
   ]
  },
  {
   "cell_type": "code",
   "execution_count": 23,
   "metadata": {},
   "outputs": [
    {
     "data": {
      "text/html": [
       "<div>\n",
       "<style scoped>\n",
       "    .dataframe tbody tr th:only-of-type {\n",
       "        vertical-align: middle;\n",
       "    }\n",
       "\n",
       "    .dataframe tbody tr th {\n",
       "        vertical-align: top;\n",
       "    }\n",
       "\n",
       "    .dataframe thead th {\n",
       "        text-align: right;\n",
       "    }\n",
       "</style>\n",
       "<table border=\"1\" class=\"dataframe\">\n",
       "  <thead>\n",
       "    <tr style=\"text-align: right;\">\n",
       "      <th></th>\n",
       "      <th>Teste</th>\n",
       "      <th>Classificação</th>\n",
       "    </tr>\n",
       "  </thead>\n",
       "  <tbody>\n",
       "    <tr>\n",
       "      <th>0</th>\n",
       "      <td>o cara tem um pote de pringles entre as perna ...</td>\n",
       "      <td>Irrelevante</td>\n",
       "    </tr>\n",
       "    <tr>\n",
       "      <th>1</th>\n",
       "      <td>@ellixquintx a pringles de cebola maior que ca...</td>\n",
       "      <td>Irrelevante</td>\n",
       "    </tr>\n",
       "    <tr>\n",
       "      <th>2</th>\n",
       "      <td>se eu fosse líder eu n ia falar com a pessoa q...</td>\n",
       "      <td>Relevante</td>\n",
       "    </tr>\n",
       "    <tr>\n",
       "      <th>3</th>\n",
       "      <td>vou fazer meu vício favorito dos últimos tempo...</td>\n",
       "      <td>Relevante</td>\n",
       "    </tr>\n",
       "    <tr>\n",
       "      <th>4</th>\n",
       "      <td>ai to muito puta namoral ja era a minha coca c...</td>\n",
       "      <td>Relevante</td>\n",
       "    </tr>\n",
       "  </tbody>\n",
       "</table>\n",
       "</div>"
      ],
      "text/plain": [
       "                                               Teste Classificação\n",
       "0  o cara tem um pote de pringles entre as perna ...   Irrelevante\n",
       "1  @ellixquintx a pringles de cebola maior que ca...   Irrelevante\n",
       "2  se eu fosse líder eu n ia falar com a pessoa q...     Relevante\n",
       "3  vou fazer meu vício favorito dos últimos tempo...     Relevante\n",
       "4  ai to muito puta namoral ja era a minha coca c...     Relevante"
      ]
     },
     "execution_count": 23,
     "metadata": {},
     "output_type": "execute_result"
    }
   ],
   "source": [
    "test = pd.read_excel(filename, sheet_name = 'Teste')\n",
    "\n",
    "test.Classificação = test.Classificação.astype('category')\n",
    "test.Classificação.cat.categories = (['Irrelevante', 'Relevante'])\n",
    "\n",
    "test.head(5)"
   ]
  },
  {
   "cell_type": "markdown",
   "metadata": {},
   "source": [
    "___\n",
    "## Classificador automático de sentimento\n"
   ]
  },
  {
   "cell_type": "markdown",
   "metadata": {},
   "source": [
    "Faça aqui uma descrição do seu produto e o que considerou como relevante ou não relevante na classificação dos tweets.\n",
    "\n",
    "\n",
    "Pringles é um aperitivo no formato batata chips e vendido em um tubo cilindrico.\n",
    "\n",
    "Relevante: avaliacoes negativas do produto ou que tivessem informacoes interessantes para uma possivel parceria ou novas ideias de marketing.\n",
    "\n",
    "Nao relevante: todos que nao fossem relevantes."
   ]
  },
  {
   "cell_type": "markdown",
   "metadata": {},
   "source": [
    "___\n",
    "### Montando um Classificador Naive-Bayes\n",
    "\n",
    "Considerando apenas as mensagens da planilha Treinamento, ensine  seu classificador."
   ]
  },
  {
   "cell_type": "code",
   "execution_count": 38,
   "metadata": {},
   "outputs": [],
   "source": [
    "# funcao para limpar o texto de pontuacoes\n",
    "\n",
    "def cleanup(text):\n",
    "    punctuation = '[|/!-.:?;¿,)(\"]'\n",
    "    pattern = re.compile(punctuation)\n",
    "    text_subbed = re.sub(pattern, '', text)\n",
    "    return remover_acentos(limpandinho(limpa_aspas(text_subbed)))"
   ]
  },
  {
   "cell_type": "code",
   "execution_count": 39,
   "metadata": {},
   "outputs": [],
   "source": [
    "# funcao para tirar aspas\n",
    "\n",
    "def limpa_aspas(text):\n",
    "    lista=[\"'\", '\"'] \n",
    "    for i in text:\n",
    "        if i in lista:\n",
    "            text = text.replace(i,\"\")\n",
    "    return text"
   ]
  },
  {
   "cell_type": "code",
   "execution_count": 40,
   "metadata": {},
   "outputs": [],
   "source": [
    "# funcao para transformar as palavras abreviadas em seus padroes + deletar palavras sem valor\n",
    "\n",
    "def limpandinho(text):\n",
    "    dicio = {\"não\": [\"n\",\"nn\",\"nao\",\"nnn\"], \n",
    "             \"sim\": [\"ss\",\"s\",\"sss\",\"siim\"], \n",
    "             \"porque\": [\"pq\",\"motivo\"],\n",
    "             \"muito\": [\"mt\"],\n",
    "             \"tudo\": [\"td\",\"todo\"]\n",
    "            }\n",
    "\n",
    "    valores=[]\n",
    "    for lista in dicio.values():\n",
    "        for elemento in lista:\n",
    "            valores.append(elemento)\n",
    "\n",
    "    nova_frase=[]\n",
    "    l_palavras = text.split()   \n",
    "    for palavra in l_palavras:\n",
    "        if palavra in valores:\n",
    "            for l_dicio in dicio.values():\n",
    "                if palavra in l_dicio:\n",
    "                    nova_frase.append(list(dicio.keys())[list(dicio.values()).index(l_dicio)])\n",
    "                    \n",
    "        elif palavra[:2] == \"kk\":\n",
    "            palavra = \"kkk\"\n",
    "            nova_frase.append(palavra)\n",
    "            \n",
    "        elif palavra[0] == \"@\":\n",
    "            pass\n",
    "        elif palavra[:4] == \"http\":\n",
    "            pass\n",
    "        elif palavra in [\"a\",\"o\",\"de\",\"e\",\"era\",\"em\",\"que\",\"q\",\"oq\"]:\n",
    "            pass\n",
    "        \n",
    "        else:\n",
    "            nova_frase.append(palavra)\n",
    "    return \" \".join(nova_frase)"
   ]
  },
  {
   "cell_type": "code",
   "execution_count": 41,
   "metadata": {},
   "outputs": [],
   "source": [
    "# remover acentos\n",
    "\n",
    "def remover_acentos(txt):    \n",
    "    return normalize('NFKD', txt).encode('ASCII', 'ignore').decode('ASCII')"
   ]
  },
  {
   "cell_type": "code",
   "execution_count": 42,
   "metadata": {},
   "outputs": [],
   "source": [
    "# separando a tabela de treinamento em relevante e irrelevante\n",
    "\n",
    "train_i = train.loc[train.Classificação==\"Irrelevante\",:]\n",
    "\n",
    "train_r = train.loc[train.Classificação==\"Relevante\",:]"
   ]
  },
  {
   "cell_type": "code",
   "execution_count": 43,
   "metadata": {},
   "outputs": [],
   "source": [
    "# limpando (cleanup()), juntando todas as palavras da tabela treinamento (.join()) e individualizando cada palavra (.split())\n",
    "\n",
    "\n",
    "# para tabela total\n",
    "l_t=[]\n",
    "for i in train.Treinamento:\n",
    "    l_t.append(cleanup(i))\n",
    "l_t = \" \".join(l_t).split()\n",
    "\n",
    "\n",
    "# para tabela somente relevante\n",
    "l_r=[]\n",
    "for i in train_r.Treinamento:\n",
    "    l_r.append(cleanup(i))   \n",
    "l_r = \" \".join(l_r).split()\n",
    "\n",
    "\n",
    "# para tabela irrelevante \n",
    "l_i=[]\n",
    "for i in train_i.Treinamento:\n",
    "    l_i.append(cleanup(i))    \n",
    "l_i = \" \".join(l_i).split()"
   ]
  },
  {
   "cell_type": "code",
   "execution_count": 44,
   "metadata": {},
   "outputs": [],
   "source": [
    "tab_total = pd.Series(l_t)\n",
    "tab_total_a = tab_total.value_counts()\n",
    "tab_total_r = tab_total.value_counts(True)\n",
    "\n",
    "tab_rel = pd.Series(l_r)\n",
    "tab_rel_a = tab_rel.value_counts()\n",
    "tab_rel_r = tab_rel.value_counts(True)\n",
    "\n",
    "tab_irr = pd.Series(l_i)\n",
    "tab_irr_a = tab_irr.value_counts()\n",
    "tab_irr_r = tab_irr.value_counts(True)"
   ]
  },
  {
   "cell_type": "code",
   "execution_count": 45,
   "metadata": {},
   "outputs": [],
   "source": [
    "# calculo da probabilidade de ser relevante e da probabilidade de ser irrelevante\n",
    "\n",
    "probR = sum(tab_rel_a)/sum(tab_total_a)\n",
    "probI = sum(tab_irr_a)/sum(tab_total_a)"
   ]
  },
  {
   "cell_type": "code",
   "execution_count": 46,
   "metadata": {},
   "outputs": [],
   "source": [
    "# limpando e separando cada frase da tabela teste\n",
    "\n",
    "l_teste=[]\n",
    "for i in test.Teste:\n",
    "    c = cleanup(i)\n",
    "    l_teste.append(c.split())"
   ]
  },
  {
   "cell_type": "code",
   "execution_count": 47,
   "metadata": {},
   "outputs": [],
   "source": [
    "# cridando um DataFrame para o maquina preencher\n",
    "\n",
    "data = {'Tweet':  [],\n",
    "        'Classificação': [],\n",
    "        }\n",
    "\n",
    "novo = pd.DataFrame(data, columns = ['Tweet','Classificação'])"
   ]
  },
  {
   "cell_type": "code",
   "execution_count": 48,
   "metadata": {
    "scrolled": false
   },
   "outputs": [],
   "source": [
    "palavras_unicas_total=[]\n",
    "for i in l_t:\n",
    "    if i not in palavras_unicas_total:\n",
    "        palavras_unicas_total.append(i)"
   ]
  },
  {
   "cell_type": "code",
   "execution_count": 49,
   "metadata": {},
   "outputs": [],
   "source": [
    "# Legenda: T == Tweet\n",
    "\n",
    "contador = 0\n",
    "for frase in l_teste:\n",
    "    probTDadoR = 1\n",
    "    for palavra in frase:\n",
    "        # Laplace smoothing\n",
    "        if palavra in tab_rel_a:\n",
    "            probTDadoR*=(tab_rel_a[palavra] + 1) / (len(tab_rel) + len(palavras_unicas_total))\n",
    "        else:\n",
    "            probTDadoR*=(0+1) / (len(tab_rel) + len(palavras_unicas_total))\n",
    "            \n",
    "            \n",
    "    probTDadoI = 1\n",
    "    for palavra in frase:\n",
    "        # Laplace smoothing\n",
    "        if palavra in tab_irr_a:\n",
    "            probTDadoI*=(tab_irr_a[palavra] + 1) / (len(tab_irr) + len(palavras_unicas_total))\n",
    "        else:\n",
    "            probTDadoI*=(0 + 1) / (len(tab_irr) + len(palavras_unicas_total))\n",
    "            \n",
    "    probRdadoT = probTDadoR*probR\n",
    "    \n",
    "    probIdadoT = probTDadoI*probI\n",
    "\n",
    "    if probRdadoT>probIdadoT:\n",
    "        \n",
    "        novo.loc[contador,\"Tweet\"]= \" \".join(frase)\n",
    "        novo.loc[novo.Tweet==\" \".join(frase),\"Classificação\"] = \"Relevante\"\n",
    "    \n",
    "    elif probRdadoT<probIdadoT:\n",
    "        \n",
    "        novo.loc[contador,\"Tweet\"]=\" \".join(frase)\n",
    "        novo.loc[novo.Tweet==\" \".join(frase),\"Classificação\"] = \"Irrelevante\"\n",
    "    \n",
    "    contador+=1"
   ]
  },
  {
   "cell_type": "markdown",
   "metadata": {},
   "source": [
    "___\n",
    "### Verificando a performance do Classificador\n",
    "\n",
    "Agora você deve testar o seu classificador com a base de Testes."
   ]
  },
  {
   "cell_type": "code",
   "execution_count": 50,
   "metadata": {
    "scrolled": true
   },
   "outputs": [],
   "source": [
    "vp = 0\n",
    "fp = 0\n",
    "vn = 0\n",
    "fn = 0\n",
    "\n",
    "novo[\"Performance\"] = \"nada\"\n",
    "\n",
    "for i in range(len(novo)):\n",
    "    if novo.iloc[i, 1] == test.iloc[i,1]:\n",
    "        if novo.iloc[i, 1] == \"Relevante\":\n",
    "            vp+=1\n",
    "            novo.iloc[i, 2]=\"VP\"\n",
    "        else:\n",
    "            vn+=1\n",
    "            novo.iloc[i, 2]=\"VN\"\n",
    "    elif novo.iloc[i, 1] != test.iloc[i,1]:\n",
    "        if novo.iloc[i, 1] == \"Relevante\":\n",
    "            fp+=1\n",
    "            novo.iloc[i, 2]=\"FP\"\n",
    "        else:\n",
    "            fn+=1\n",
    "            novo.iloc[i, 2]=\"FN\""
   ]
  },
  {
   "cell_type": "code",
   "execution_count": 51,
   "metadata": {
    "scrolled": false
   },
   "outputs": [
    {
     "name": "stdout",
     "output_type": "stream",
     "text": [
      "Porcentagem de verdadeiros positivos: 14.0\n",
      "Porcentagem de falsos positivos: 16.5\n",
      "Porcentagem de verdadeiros negativos: 54.5\n",
      "Porcentagem de falsos negativos: 15.0\n"
     ]
    }
   ],
   "source": [
    "P = novo.loc[:,[\"Performance\"]].value_counts(normalize=True).round(4)*100\n",
    "vp = P[\"VP\"]\n",
    "fp = P[\"FP\"]\n",
    "vn = P[\"VN\"]\n",
    "fn = P[\"FN\"]\n",
    "print(f\"Porcentagem de verdadeiros positivos: {vp:.1f}\")\n",
    "print(f\"Porcentagem de falsos positivos: {fp:.1f}\")\n",
    "print(f\"Porcentagem de verdadeiros negativos: {vn:.1f}\")\n",
    "print(f\"Porcentagem de falsos negativos: {fn:.1f}\")"
   ]
  },
  {
   "cell_type": "markdown",
   "metadata": {},
   "source": [
    "___\n",
    "### Concluindo"
   ]
  },
  {
   "cell_type": "code",
   "execution_count": null,
   "metadata": {},
   "outputs": [],
   "source": []
  },
  {
   "cell_type": "code",
   "execution_count": null,
   "metadata": {},
   "outputs": [],
   "source": []
  },
  {
   "cell_type": "markdown",
   "metadata": {},
   "source": [
    "___\n",
    "### Qualidade do Classificador a partir de novas separações dos tweets entre Treinamento e Teste\n",
    "\n",
    "Caso for fazer esse item do Projeto"
   ]
  },
  {
   "cell_type": "code",
   "execution_count": null,
   "metadata": {},
   "outputs": [],
   "source": []
  },
  {
   "cell_type": "code",
   "execution_count": null,
   "metadata": {},
   "outputs": [],
   "source": []
  },
  {
   "cell_type": "code",
   "execution_count": null,
   "metadata": {},
   "outputs": [],
   "source": []
  },
  {
   "cell_type": "markdown",
   "metadata": {},
   "source": [
    "___\n",
    "## Aperfeiçoamento:\n",
    "\n",
    "Os trabalhos vão evoluir em conceito dependendo da quantidade de itens avançados:\n",
    "\n",
    "* Limpar: \\n, :, \", ', (, ), etc SEM remover emojis\n",
    "* Corrigir separação de espaços entre palavras e emojis ou entre emojis e emojis\n",
    "* Propor outras limpezas e transformações que não afetem a qualidade da informação ou classificação\n",
    "* Criar categorias intermediárias de relevância baseadas na probabilidade: ex.: muito relevante, relevante, neutro, irrelevante, muito irrelevante (3 categorias: C, mais categorias conta para B)\n",
    "* Explicar por que não posso usar o próprio classificador para gerar mais amostras de treinamento\n",
    "* Propor diferentes cenários para Naïve Bayes fora do contexto do projeto\n",
    "* Sugerir e explicar melhorias reais com indicações concretas de como implementar (indicar como fazer e indicar material de pesquisa)\n"
   ]
  },
  {
   "cell_type": "markdown",
   "metadata": {},
   "source": [
    "___\n",
    "## Referências"
   ]
  },
  {
   "cell_type": "markdown",
   "metadata": {},
   "source": [
    "[Naive Bayes and Text Classification](https://arxiv.org/pdf/1410.5329.pdf)  **Mais completo**\n",
    "\n",
    "[A practical explanation of a Naive Bayes Classifier](https://monkeylearn.com/blog/practical-explanation-naive-bayes-classifier/) **Mais simples**"
   ]
  }
 ],
 "metadata": {
  "kernelspec": {
   "display_name": "Python 3",
   "language": "python",
   "name": "python3"
  },
  "language_info": {
   "codemirror_mode": {
    "name": "ipython",
    "version": 3
   },
   "file_extension": ".py",
   "mimetype": "text/x-python",
   "name": "python",
   "nbconvert_exporter": "python",
   "pygments_lexer": "ipython3",
   "version": "3.8.8"
  }
 },
 "nbformat": 4,
 "nbformat_minor": 4
}
